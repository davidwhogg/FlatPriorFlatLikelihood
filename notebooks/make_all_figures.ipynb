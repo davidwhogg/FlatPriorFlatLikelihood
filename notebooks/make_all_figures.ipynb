{
 "cells": [
  {
   "cell_type": "markdown",
   "metadata": {
    "id": "8kUwNyqAi3Nm"
   },
   "source": [
    "# Flat prior, flat likelihood (and yet peaked posterior)\n",
    "*Make all figures for the paper*\n",
    "\n",
    "## Authors:\n",
    "- **David W. Hogg** (NYU) (MPIA)\n",
    "\n",
    "## Project:\n",
    "- Show that even in the simplest situation: Everything linear, everything Gaussian, and flat priors, the Bayesian posterior is peaked when the likelihood function is not.\n",
    "  - That is, even integrating a flat LF over a flat prior can give you a spurious peak. It's sweet! The fundamental reason is that in more than a few dimensions, any misalignment between the model degeneracy and the box edges will give you structure.\n",
    "\n",
    "## Bugs / To-do items:\n",
    "- Show that as the truth (`CENTER`) moves, the peak in the LF moves accordingly.\n",
    "- Explore the effect of dimensionality of the space.\n",
    "- Explore the effect of the dimensionality of the degeneracy.\n",
    "- Show plots that are aligned with the degeneracy.\n",
    "- Show that the problem is easy to diagnose by changing the limits of the prior.\n",
    "- Switch to a latin hypercube, maybe?\n"
   ]
  },
  {
   "cell_type": "code",
   "execution_count": null,
   "metadata": {
    "id": "zyRSIiW6i2Yh"
   },
   "outputs": [],
   "source": [
    "import numpy as np\n",
    "import pylab as plt"
   ]
  },
  {
   "cell_type": "code",
   "execution_count": null,
   "metadata": {
    "id": "HGU2XGwHjiFr"
   },
   "outputs": [],
   "source": [
    "# hyperparameters / choices\n",
    "P = 6 # dimensionality of the space\n",
    "R = 2 # dimensionality of the null space (exact degeneracy space)\n",
    "Q = P - R # dimensionality of the non-null space\n",
    "M = 12 # number of samplings to do\n",
    "N = 2 ** (13 + P // 3) # number of samples per sampling\n",
    "print(P, Q, M, N)"
   ]
  },
  {
   "cell_type": "code",
   "execution_count": null,
   "metadata": {
    "id": "JvZ_hgADjGzA"
   },
   "outputs": [],
   "source": [
    "# make some random numbers to define our Universe\n",
    "rng = np.random.default_rng(21)\n",
    "CENTER = 10. * rng.uniform(size=P)\n",
    "VECS = rng.normal(size=(P, P))"
   ]
  },
  {
   "cell_type": "code",
   "execution_count": null,
   "metadata": {
    "id": "kaHjxMO-mTYs"
   },
   "outputs": [],
   "source": [
    "# now orthogonalize to make a randomly oriented orthonormal coordinate system\n",
    "UNITVECS = np.zeros((P, P))\n",
    "for i in range(P):\n",
    "    veci = 1. * VECS[i]\n",
    "    for j in range(i):\n",
    "        uvecj = UNITVECS[j]\n",
    "        veci -= (veci @ uvecj) * uvecj\n",
    "    UNITVECS[i] = veci / np.linalg.norm(veci)\n",
    "print(np.round(UNITVECS[:Q], 3))"
   ]
  },
  {
   "cell_type": "code",
   "execution_count": null,
   "metadata": {
    "id": "JywiJ2tkkSNJ"
   },
   "outputs": [],
   "source": [
    "# Make a LLF with an exact M-dimensional degeneracy\n",
    "def log_likelihood(points):\n",
    "    \"\"\"\n",
    "    ## Bugs:\n",
    "    - Only can take lists of points, not a single point.\n",
    "    - Relies on global variables.\n",
    "    \"\"\"\n",
    "    deltas = (UNITVECS[:Q] @ (points.T - CENTER[:, None])).T\n",
    "    return 10.0 - 0.5 * np.sum(deltas * deltas, axis=1)"
   ]
  },
  {
   "cell_type": "code",
   "execution_count": null,
   "metadata": {
    "id": "G9QDUW9BnJF8"
   },
   "outputs": [],
   "source": [
    "# Choose a plot center that is near to a high-likelihood point, but integer\n",
    "plot_center = np.round(CENTER + np.random.normal(size=CENTER.shape))\n",
    "axis_labels = [f\"\\\\theta_{{{i+1}}}\" for i in range(P)]\n",
    "print(plot_center, axis_labels)"
   ]
  },
  {
   "cell_type": "code",
   "execution_count": null,
   "metadata": {
    "id": "FuyHULzFnk4v"
   },
   "outputs": [],
   "source": [
    "# Make MN samplings in a cube\n",
    "halfsize = 5.0\n",
    "points = 2. * halfsize * rng.uniform(size=(M * N, P)) - halfsize + plot_center[None, :]\n",
    "llfs = log_likelihood(points)\n",
    "print(points.shape, llfs.shape)"
   ]
  },
  {
   "cell_type": "code",
   "execution_count": null,
   "metadata": {
    "id": "3Ghp7iDTq9KZ"
   },
   "outputs": [],
   "source": [
    "FIGSIZE = 3. # units?\n",
    "nx = np.ceil(np.sqrt(P)).astype(int)\n",
    "ny = np.ceil(P / nx).astype(int)\n",
    "fig, axs = plt.subplots(ny, nx, figsize=(FIGSIZE * nx, FIGSIZE * ny), sharey=True)\n",
    "axs = axs.flatten()\n",
    "for i in range(P):\n",
    "    ax = axs[i]\n",
    "    # ax.axvline(CENTER[i], lw=1, color=\"k\", alpha=0.5)\n",
    "    foo, bar = np.histogram(points[:, i], weights=np.exp(llfs[:]), density=True)\n",
    "    xlabel = f\"$p({axis_labels[i]}|Y)$\"\n",
    "    ax.stairs(foo, bar, color=\"k\", alpha=1.0, fill=False, label=xlabel)\n",
    "    for m in range(M):\n",
    "        foo, bar = np.histogram(points[m::M, i], weights=np.exp(llfs[m::M]), density=True)\n",
    "        ax.stairs(foo, bar, color=\"k\", alpha=0.25, fill=False)\n",
    "    # ax.legend(loc=8)\n",
    "    ax.text(0.05, 0.95, f\"${axis_labels[i]}$\", transform=ax.transAxes,\n",
    "            ha=\"left\", va=\"top\")\n",
    "    ax.set_xlim(plot_center[i] - halfsize, plot_center[i] + halfsize)\n",
    "for j in range(i+1, len(axs)):\n",
    "    axs[j].set_visible(False)\n",
    "plt.savefig(\"Experiment1.png\",dpi=200,bbox_inches=\"tight\")"
   ]
  },
  {
   "cell_type": "code",
   "execution_count": null,
   "metadata": {
    "id": "Lj6DAMy-qBMF"
   },
   "outputs": [],
   "source": []
  }
 ],
 "metadata": {
  "colab": {
   "authorship_tag": "ABX9TyP0b/kkcrIbWI0AvyNmJUlt",
   "include_colab_link": true,
   "provenance": []
  },
  "kernelspec": {
   "display_name": "Python 3 (ipykernel)",
   "language": "python",
   "name": "python3"
  },
  "language_info": {
   "codemirror_mode": {
    "name": "ipython",
    "version": 3
   },
   "file_extension": ".py",
   "mimetype": "text/x-python",
   "name": "python",
   "nbconvert_exporter": "python",
   "pygments_lexer": "ipython3",
   "version": "3.9.6"
  }
 },
 "nbformat": 4,
 "nbformat_minor": 4
}
